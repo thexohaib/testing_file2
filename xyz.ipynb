{
 "cells": [
  {
   "cell_type": "code",
   "execution_count": 1,
   "metadata": {},
   "outputs": [
    {
     "name": "stdout",
     "output_type": "stream",
     "text": [
      "zohaib is such a jerk\n"
     ]
    }
   ],
   "source": [
    "print(\"zohaib is such a jerk\")"
   ]
  },
  {
   "cell_type": "code",
   "execution_count": 4,
   "metadata": {},
   "outputs": [
    {
     "data": {
      "text/plain": [
       "300"
      ]
     },
     "execution_count": 4,
     "metadata": {},
     "output_type": "execute_result"
    }
   ],
   "source": [
    "num=200\n",
    "num+=100\n",
    "num"
   ]
  },
  {
   "cell_type": "code",
   "execution_count": 17,
   "metadata": {},
   "outputs": [
    {
     "data": {
      "text/plain": [
       "0"
      ]
     },
     "execution_count": 17,
     "metadata": {},
     "output_type": "execute_result"
    }
   ],
   "source": [
    "num=(12*2)//4-6\n",
    "num"
   ]
  },
  {
   "cell_type": "code",
   "execution_count": 11,
   "metadata": {},
   "outputs": [
    {
     "name": "stdout",
     "output_type": "stream",
     "text": [
      "my name is minhaland my age is 10\n"
     ]
    }
   ],
   "source": [
    "age=10\n",
    "name=\"minhal\"\n",
    "print(\"my name is \"+name+\"and my age is \"+str(age))"
   ]
  },
  {
   "cell_type": "code",
   "execution_count": 16,
   "metadata": {},
   "outputs": [
    {
     "name": "stdout",
     "output_type": "stream",
     "text": [
      "enter your age: 55\n",
      "tell me your name plz: 66\n",
      "my name is 66 and my age is 55\n"
     ]
    }
   ],
   "source": [
    "age=input(\"enter your age: \")\n",
    "name=input(\"tell me your name plz: \")\n",
    "print(\"my name is \" + name + \" and my age is \" +str(age))"
   ]
  },
  {
   "cell_type": "code",
   "execution_count": null,
   "metadata": {},
   "outputs": [],
   "source": [
    "age = input (' age is ')\n",
    "name = input(' name is ')\n",
    "print ( ' my name is', name , 'my age is', age )"
   ]
  },
  {
   "cell_type": "code",
   "execution_count": 2,
   "metadata": {},
   "outputs": [
    {
     "name": "stdout",
     "output_type": "stream",
     "text": [
      "name ahuj\n",
      "age 858\n",
      "my name is 858 and my age is ahuj\n"
     ]
    }
   ],
   "source": [
    "name=input(\"name \")\n",
    "age=input(\"age \")\n",
    "print(\"my name is {1} and my age is {0}\" .format(name,age))\n"
   ]
  },
  {
   "cell_type": "code",
   "execution_count": 3,
   "metadata": {},
   "outputs": [
    {
     "name": "stdout",
     "output_type": "stream",
     "text": [
      "name zia\n",
      "age 11\n",
      "my name is zia and my age is 11\n"
     ]
    }
   ],
   "source": [
    "name=input(\"name \")\n",
    "age=input(\"age \")\n",
    "print (f'my name is {name} and my age is {age}')"
   ]
  },
  {
   "cell_type": "code",
   "execution_count": 10,
   "metadata": {},
   "outputs": [
    {
     "name": "stdout",
     "output_type": "stream",
     "text": [
      "a is less then b\n",
      "\n",
      "\n",
      "\n",
      "b is less then a\n"
     ]
    }
   ],
   "source": [
    "a=20\n",
    "b=40\n",
    "if a<b:\n",
    "    print('a is less then b')\n",
    "    print()\n",
    "    print()\n",
    "    print()\n",
    "if a<b:\n",
    "    print('b is less then a')"
   ]
  },
  {
   "cell_type": "code",
   "execution_count": 21,
   "metadata": {},
   "outputs": [
    {
     "name": "stdout",
     "output_type": "stream",
     "text": [
      "enter a number here:232\n",
      "232 is even\n"
     ]
    }
   ],
   "source": [
    "num =int(input(\"enter a number here:\"))\n",
    "if num%2==0:\n",
    "    print(f\"{num} is even\")\n",
    "    \n",
    "else:\n",
    "    print(f\"{num} is odd\")\n",
    "    "
   ]
  },
  {
   "cell_type": "code",
   "execution_count": null,
   "metadata": {},
   "outputs": [],
   "source": [
    "num =int(input(\"enter a number here:\"))\n",
    "if num%2!=0:\n",
    "    print(f\"{num} is odd\")\n",
    "    \n",
    "else:\n",
    "    print(f\"{num} is even\")\n",
    "    "
   ]
  },
  {
   "cell_type": "code",
   "execution_count": null,
   "metadata": {},
   "outputs": [],
   "source": [
    "\n"
   ]
  },
  {
   "cell_type": "code",
   "execution_count": null,
   "metadata": {},
   "outputs": [],
   "source": [
    "\n"
   ]
  },
  {
   "cell_type": "code",
   "execution_count": null,
   "metadata": {},
   "outputs": [],
   "source": []
  },
  {
   "cell_type": "code",
   "execution_count": null,
   "metadata": {},
   "outputs": [],
   "source": []
  },
  {
   "cell_type": "code",
   "execution_count": null,
   "metadata": {},
   "outputs": [],
   "source": [
    "\n"
   ]
  }
 ],
 "metadata": {
  "kernelspec": {
   "display_name": "Python 3",
   "language": "python",
   "name": "python3"
  },
  "language_info": {
   "codemirror_mode": {
    "name": "ipython",
    "version": 3
   },
   "file_extension": ".py",
   "mimetype": "text/x-python",
   "name": "python",
   "nbconvert_exporter": "python",
   "pygments_lexer": "ipython3",
   "version": "3.7.3"
  }
 },
 "nbformat": 4,
 "nbformat_minor": 2
}
